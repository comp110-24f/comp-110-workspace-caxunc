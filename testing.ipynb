{
 "cells": [
  {
   "cell_type": "code",
   "execution_count": 4,
   "id": "c5e61bcd-6701-4881-8b4d-859d5db32763",
   "metadata": {},
   "outputs": [
    {
     "name": "stdout",
     "output_type": "stream",
     "text": [
      "<class 'float'>\n"
     ]
    }
   ],
   "source": [
    "from random import random\n",
    "random\n",
    "print(type(random()))"
   ]
  },
  {
   "cell_type": "code",
   "execution_count": 5,
   "id": "66e7d86d-70b1-4603-b9d9-dbd6bd4eaba0",
   "metadata": {},
   "outputs": [
    {
     "name": "stdout",
     "output_type": "stream",
     "text": [
      "<class 'str'>\n"
     ]
    }
   ],
   "source": [
    "from random import choice\n",
    "print(type(choice(\"xya\")))"
   ]
  },
  {
   "cell_type": "code",
   "execution_count": 6,
   "id": "af7c7afd-44ea-45ec-bcb2-73f5f09a18cf",
   "metadata": {},
   "outputs": [
    {
     "data": {
      "text/plain": [
       "True"
      ]
     },
     "execution_count": 6,
     "metadata": {},
     "output_type": "execute_result"
    }
   ],
   "source": [
    "\"100\".isdigit()"
   ]
  },
  {
   "cell_type": "code",
   "execution_count": null,
   "id": "e57d0845-bb7b-4a32-9cb7-c3ce3f0696f6",
   "metadata": {},
   "outputs": [],
   "source": [
    "\"w1\".isap"
   ]
  }
 ],
 "metadata": {
  "kernelspec": {
   "display_name": "Python 3 (ipykernel)",
   "language": "python",
   "name": "python3"
  },
  "language_info": {
   "codemirror_mode": {
    "name": "ipython",
    "version": 3
   },
   "file_extension": ".py",
   "mimetype": "text/x-python",
   "name": "python",
   "nbconvert_exporter": "python",
   "pygments_lexer": "ipython3",
   "version": "3.12.2"
  }
 },
 "nbformat": 4,
 "nbformat_minor": 5
}
